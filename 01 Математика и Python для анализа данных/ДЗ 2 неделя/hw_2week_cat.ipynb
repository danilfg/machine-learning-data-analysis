{
 "cells": [
  {
   "cell_type": "code",
   "execution_count": 76,
   "metadata": {},
   "outputs": [
    {
     "name": "stdout",
     "output_type": "stream",
     "text": [
      "4\n",
      "6\n"
     ]
    }
   ],
   "source": [
    "import re\n",
    "import pandas as pd\n",
    "import numpy as np\n",
    "from scipy.spatial import distance\n",
    "\n",
    "\n",
    "lines = 0\n",
    "dataWords = []\n",
    "with open('sentences.txt', 'r') as f:\n",
    "    for i in f:\n",
    "        dataWords.append(re.split('[^a-zA-Z]', i.strip().lower())) # нижний регистр и разбивание на предложения\n",
    "        lines += 1\n",
    "\n",
    "# Удаляем пустые элементы\n",
    "for val in dataWords:\n",
    "    for i in reversed(range(len(val))):\n",
    "        if val[i] ==  '':\n",
    "            del val[i]\n",
    "\n",
    "# Создаем словарь с индексом слов\n",
    "dictWords = {}\n",
    "countWord = 0\n",
    "for line in dataWords:\n",
    "    for word in line:\n",
    "        if word not in dictWords:\n",
    "            dictWords[word] = countWord\n",
    "            countWord += 1\n",
    "            \n",
    "# Создаем матрицу\n",
    "matrix = np.zeros((lines, countWord))\n",
    "\n",
    "# Вносим число вхождений слова в матрицу\n",
    "for key in dictWords:\n",
    "    for i in range(len(dataWords)):\n",
    "        count = 0\n",
    "        for j in range(len(dataWords[i])):\n",
    "            if key == dataWords[i][j]:\n",
    "                count += 1\n",
    "        matrix[i, dictWords[key]] = count\n",
    "#print('\\n'.join(' '.join(str(col) for col in row) for row in matrix))\n",
    "#print(matrix[:5])\n",
    "\n",
    "# \n",
    "min1 = 0\n",
    "min2 = 0\n",
    "res1 = 0\n",
    "for i in range(len(matrix)):\n",
    "    res = distance.cosine(matrix[0], matrix[i])\n",
    "    if res1 == 0:\n",
    "        res1 = res\n",
    "        min1 = min2\n",
    "        min2 = i\n",
    "    if res < res1:\n",
    "        min1 = min2\n",
    "        min2 = i\n",
    "        res1 = res\n",
    "with open('answer.txt', 'w') as fileAnswer:\n",
    "    fileAnswer.write(str(min1) + ' ' + str(min2))"
   ]
  },
  {
   "cell_type": "code",
   "execution_count": null,
   "metadata": {},
   "outputs": [],
   "source": [
    "\n"
   ]
  }
 ],
 "metadata": {
  "kernelspec": {
   "display_name": "Python 3",
   "language": "python",
   "name": "python3"
  },
  "language_info": {
   "codemirror_mode": {
    "name": "ipython",
    "version": 3
   },
   "file_extension": ".py",
   "mimetype": "text/x-python",
   "name": "python",
   "nbconvert_exporter": "python",
   "pygments_lexer": "ipython3",
   "version": "3.7.6"
  }
 },
 "nbformat": 4,
 "nbformat_minor": 2
}
